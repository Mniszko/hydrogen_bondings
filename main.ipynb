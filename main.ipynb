{
 "cells": [
  {
   "cell_type": "code",
   "execution_count": null,
   "metadata": {},
   "outputs": [
    {
     "ename": "",
     "evalue": "",
     "output_type": "error",
     "traceback": [
      "\u001b[1;31mFailed to start the Kernel. \n",
      "request to http://localhost:8888/api/sessions?1652278251790 failed, reason: getaddrinfo ENOTFOUND localhost. \n",
      "View Jupyter <a href='command:jupyter.viewOutput'>log</a> for further details."
     ]
    }
   ],
   "source": [
    "import matplotlib.pyplot as plt\n",
    "import subprocess as sp\n",
    "import numpy as np\n",
    "\n",
    "#plt.rc('text', usetex=False)\n",
    "#plt.rcParams['figure.figsize']=[12,8]\n",
    "#plt.rc('figure', titlesize=16*4/2)\n",
    "#plt.rcParams['axes.formatter.use_locale']=True"
   ]
  },
  {
   "cell_type": "code",
   "execution_count": null,
   "metadata": {},
   "outputs": [],
   "source": [
    "class Magnet:\n",
    "    matrix=[[]]\n",
    "    def __init__(self,R,Z,M,x,y):\n",
    "        self.R=R\n",
    "        self.Z=Z\n",
    "        self.M=M\n",
    "        self.x=x\n",
    "        self.y=y\n",
    "\n",
    "#admat uwzględnia kierunki sił, dlatego jest taki rozbudowany (jest to dodawanie macierzy sił dla wszystkich magnesów, nic więcej)\n",
    "def admat(mgnts):\n",
    "    finalx=[]\n",
    "    for i in range(len(mgnts[0].matrix)): #czy w dobrej kolejności te fory?\n",
    "        row=[]\n",
    "        for k in range(len(mgnts[0].matrix[0])):\n",
    "            row.append(0)\n",
    "        finalx.append(row)\n",
    "    finaly=[]\n",
    "    for i in range(len(mgnts[0].matrix)): \n",
    "        row=[]\n",
    "        for k in range(len(mgnts[0].matrix[0])):\n",
    "            row.append(0)\n",
    "        finaly.append(row)\n",
    "    final =[]\n",
    "    for i in range(len(mgnts[0].matrix)): \n",
    "        row=[]\n",
    "        for k in range(len(mgnts[0].matrix[0])):\n",
    "            row.append(0)\n",
    "        final.append(row)\n",
    "\n",
    "    \n",
    "    for m in mgnts:\n",
    "        #teraz będziemy rzutować na osie wszystkie wartości:\n",
    "        for i in range(len(m.matrix)):\n",
    "            for j in range(len(m.matrix[i])):\n",
    "                x_part, y_part=[(i-m.x)*m.matrix[i][j],(j-m.y)*m.matrix[i][j]]#wcześniej też był liczony po i,j\n",
    "                finalx[i][j]+=(x_part)\n",
    "                finaly[i][j]+=(y_part)\n",
    "    \n",
    "    for i in range(len(final)):\n",
    "        for j in range(len(final[i])):\n",
    "            final[i][j]=np.sqrt(finalx[i][j]**2+finaly[i][j]**2)\n",
    "        \n",
    "    return final\n",
    "    \n",
    "def distance(x,y,mag_x,mag_y):\n",
    "    return [xlen/nx*(x-mag_x), ylen/ny*(y-mag_y)]"
   ]
  },
  {
   "cell_type": "code",
   "execution_count": null,
   "metadata": {},
   "outputs": [
    {
     "ename": "",
     "evalue": "",
     "output_type": "error",
     "traceback": [
      "\u001b[1;31mFailed to start the Kernel. \n",
      "request to http://localhost:8888/api/sessions?1652278227320 failed, reason: getaddrinfo EEXIST localhost. \n",
      "View Jupyter <a href='command:jupyter.viewOutput'>log</a> for further details."
     ]
    }
   ],
   "source": [
    "MAGNETISATION = -100\n",
    "\n",
    "#poniżej znajdują się inicjalizacje, to jest różne ułożenia magnesów mniejszych wokół większego. wszystkie zakładają, że rzecz będzie symetryczna\n",
    "#inicjalizację stosuje się tylko w następnej komurce, wystarczy wpisać parametry opisujące ułożenie (odległość między innymi) magnesów względem siebie\n",
    "\n",
    "def init_4(Z,R,r,w,y0):\n",
    "    x0=nx/2-0.5\n",
    "    mc = Magnet(R,Z,MAGNETISATION,x0,0+y0)\n",
    "    m1 = Magnet(r,Z,MAGNETISATION,x0-w/2,-w/2+y0)\n",
    "    m2 = Magnet(r,Z,MAGNETISATION,x0+w/2,-w/2+y0)\n",
    "    m3 = Magnet(r,Z,MAGNETISATION,x0-w/2,w/2+y0)\n",
    "    m4 = Magnet(r,Z,MAGNETISATION,x0+w/2,w/2+y0)    \n",
    "    return [mc,m1,m2,m3,m4]\n",
    "\n",
    "#init_5 wymaga dopracowania\n",
    "def init_5(Z,R,r,a,y0):\n",
    "    x0=nx/2-0.5\n",
    "    phi0 = np.pi/5\n",
    "    mc = Magnet(R,Z,MAGNETISATION,x0,0+y0)\n",
    "    m1 = Magnet(r,Z,MAGNETISATION,x0+a*np.sin(2*np.pi/5+phi0),a*np.cos(2*np.pi/5+phi0)+y0)\n",
    "    m2 = Magnet(r,Z,MAGNETISATION,x0+a*np.sin(4*np.pi/5+phi0),a*np.cos(4*np.pi/5+phi0)+y0)\n",
    "    m3 = Magnet(r,Z,MAGNETISATION,x0+a*np.sin(6*np.pi/5+phi0),a*np.cos(6*np.pi/5+phi0)+y0)\n",
    "    m4 = Magnet(r,Z,MAGNETISATION,x0+a*np.sin(8*np.pi/5+phi0),a*np.cos(8*np.pi/5+phi0)+y0)\n",
    "    m5 = Magnet(r,Z,MAGNETISATION,x0+a*np.sin(10*np.pi/5+phi0),a*np.cos(10*np.pi/5+phi0)+y0)\n",
    "\n",
    "    return [mc,m1,m2,m3,m4,m5]\n",
    "#init_6 wymaga napisania\n",
    "\n",
    "def init_6(Z,R,r,b,y0):\n",
    "    x0=nx/2-0.5\n",
    "    mc = Magnet(R,Z,MAGNETISATION,x0,0+y0)\n",
    "    m1 = Magnet(r,Z,MAGNETISATION,x0+b*np.cos(2*np.pi/6),b*np.sin(2*np.pi/6)+y0)\n",
    "    m2 = Magnet(r,Z,MAGNETISATION,x0+b*np.cos(4*np.pi/6),b*np.sin(4*np.pi/6)+y0)\n",
    "    m3 = Magnet(r,Z,MAGNETISATION,x0+b*np.cos(6*np.pi/6),b*np.sin(6*np.pi/6)+y0)\n",
    "    m4 = Magnet(r,Z,MAGNETISATION,x0+b*np.cos(8*np.pi/6),b*np.sin(8*np.pi/6)+y0)\n",
    "    m5 = Magnet(r,Z,MAGNETISATION,x0+b*np.cos(10*np.pi/6),b*np.sin(10*np.pi/6)+y0)\n",
    "    m6 = Magnet(r,Z,MAGNETISATION,x0+b*np.cos(12*np.pi/6),b*np.sin(12*np.pi/6)+y0)\n",
    "\n",
    "    return [mc,m1,m2,m3,m4,m5,m6]"
   ]
  },
  {
   "cell_type": "code",
   "execution_count": null,
   "metadata": {},
   "outputs": [
    {
     "ename": "",
     "evalue": "",
     "output_type": "error",
     "traceback": [
      "\u001b[1;31mFailed to start the Kernel. \n",
      "request to http://localhost:8888/api/sessions?1652278229406 failed, reason: getaddrinfo EEXIST localhost. \n",
      "View Jupyter <a href='command:jupyter.viewOutput'>log</a> for further details."
     ]
    }
   ],
   "source": [
    "#wartości inicjalizacji:\n",
    "xlen = 20\n",
    "ylen = 20\n",
    "nx=6\n",
    "ny=10\n",
    "#ny jest długością; y=0 to pierwsza kolumna, y=ny-1 to ostatnia, analogicznie nx\n",
    "\n",
    "#test_mag... jest właściwie bez znaczenia - moment magnetyczny dipolu postaci pochodnej delty Diraca\n",
    "test_magnetisation=1\n",
    "\n",
    "magnets=init_5(0.2,2,0.8,4,-5)\n",
    "\n",
    "\n",
    "\n",
    "for ms in magnets:\n",
    "    matrix=[]\n",
    "    for i in range(nx):\n",
    "        row=[]\n",
    "        for k in range(ny):\n",
    "            row.append(0)\n",
    "        matrix.append(row)\n",
    "    ms.matrix=matrix"
   ]
  },
  {
   "cell_type": "code",
   "execution_count": 139,
   "metadata": {},
   "outputs": [
    {
     "name": "stdout",
     "output_type": "stream",
     "text": [
      "skończono magnes nr  1\n",
      "skończono magnes nr  2\n",
      "skończono magnes nr  3\n",
      "skończono magnes nr  4\n",
      "skończono magnes nr  5\n",
      "skończono magnes nr  6\n"
     ]
    }
   ],
   "source": [
    "#teraz budowanie macierzy każdego z magnesów\n",
    "#kalkulowanie 100 pól dla 1 magnesu przy INT_RES=200 to ~25 sekund\n",
    "for k in range(len(magnets)):\n",
    "    m = magnets[k]\n",
    "    for i in range(nx):\n",
    "        for j in range(ny): \n",
    "            l0x, l0y = distance(i, j, m.x, m.y)\n",
    "            sp.run(['./integral',str(m.R),\n",
    "            str(m.Z),str(test_magnetisation),str(m.M),str(l0x),str(l0y)])\n",
    "\n",
    "            with open('can.txt','r') as File:\n",
    "                m.matrix[i][j] = float(File.readlines()[0])\n",
    "            File.close()\n",
    "\n",
    "        #print('skończono pętlę: ', i+1)\n",
    "    print('skończono magnes nr ', k+1)\n",
    "#output czasem wariuje, ale macierz działą#nie mam pojęcia co dzieje się z outputem, ale przynajmniej macierz działa"
   ]
  },
  {
   "cell_type": "code",
   "execution_count": 140,
   "metadata": {},
   "outputs": [
    {
     "data": {
      "image/png": "[encoded data removed]",
      "text/plain": [
       "<Figure size 432x720 with 1 Axes>"
      ]
     },
     "metadata": {
      "needs_background": "light"
     },
     "output_type": "display_data"
    }
   ],
   "source": [
    "fig,ax = plt.subplots()\n",
    "fig.set_size_inches(nx,ny)\n",
    "\n",
    "\n",
    "#określenie macieży rysowanej:\n",
    "final = admat(magnets)\n",
    "final = np.array([np.array(ms) for ms in final])\n",
    "\n",
    "\n",
    "\n",
    "#skalowanie potęgowe - żeby poprawić widoczność, równie dobrze można określić cmap potęgową.\n",
    "im = ax.imshow((final**2)**(0.25/2),cmap='magma',vmax=4)#liniujemy dla lepszej widoczności\n",
    "plt.xticks(np.linspace(0,nx,nx+1))\n",
    "plt.yticks(np.linspace(0,nx,nx+1))\n",
    "#rysowanie magnesów:\n",
    "for m in magnets:\n",
    "    srodek=[m.x,m.y]\n",
    "\n",
    "    x = np.linspace(m.y-m.R,m.y+m.R,1000)\n",
    "    xx = np.linspace(-m.R,m.R,1000)\n",
    "    y = m.x-np.sqrt(m.R**2-xx**2)\n",
    "    y2 = m.x+np.sqrt(m.R**2-xx**2)\n",
    "\n",
    "    plt.fill_between(x,y,y2,alpha=0.6,color='darkturquoise')\n",
    "plt.savefig('magnesy.png',dpi=200)"
   ]
  },
  {
   "cell_type": "code",
   "execution_count": null,
   "metadata": {},
   "outputs": [],
   "source": []
  },
  {
   "cell_type": "code",
   "execution_count": null,
   "metadata": {},
   "outputs": [],
   "source": []
  }
 ],
 "metadata": {
  "interpreter": {
   "hash": "767d51c1340bd893661ea55ea3124f6de3c7a262a8b4abca0554b478b1e2ff90"
  },
  "kernelspec": {
   "display_name": "Python 3.10.2 64-bit",
   "language": "python",
   "name": "python3"
  },
  "language_info": {
   "codemirror_mode": {
    "name": "ipython",
    "version": 3
   },
   "file_extension": ".py",
   "mimetype": "text/x-python",
   "name": "python",
   "nbconvert_exporter": "python",
   "pygments_lexer": "ipython3",
   "version": "3.10.4"
  },
  "orig_nbformat": 4
 },
 "nbformat": 4,
 "nbformat_minor": 2
}
